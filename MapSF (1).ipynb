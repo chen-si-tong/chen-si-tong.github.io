{
 "cells": [
  {
   "cell_type": "code",
   "execution_count": 3,
   "id": "878ad065",
   "metadata": {},
   "outputs": [
    {
     "data": {
      "application/vnd.jupyter.widget-view+json": {
       "model_id": "978266a4f21d46daab75592eb6495f2c",
       "version_major": 2,
       "version_minor": 0
      },
      "text/plain": [
       "interactive(children=(Dropdown(description='year', options=('2008', '2003', '2004', '2005', '2006', '2007', '2…"
      ]
     },
     "metadata": {},
     "output_type": "display_data"
    },
    {
     "data": {
      "text/plain": [
       "<function __main__.plot_fire_incidents(year)>"
      ]
     },
     "execution_count": 3,
     "metadata": {},
     "output_type": "execute_result"
    }
   ],
   "source": [
    "from ipywidgets import interact\n",
    "import folium\n",
    "\n",
    "def plot_fire_incidents(year):\n",
    "    m = folium.Map(location=[37.7749,-122.4194], zoom_start=12, tiles='Stamen Terrain') \n",
    "    data = {\n",
    "            'latitude': list(df5[df5['Date'].str.contains(year)][\"latitudes\"]),\n",
    "            'longitude': list(df5[df5['Date'].str.contains(year)][\"longitude\"])\n",
    "            }\n",
    "    df = pd.DataFrame(data)\n",
    "    for index, row in df.iterrows():\n",
    "        folium.CircleMarker([row['latitude'], row['longitude']], radius=0.00001,\n",
    "                            color='red', fill_color='red', fill_opacity=10).add_to(m)\n",
    "\n",
    "    X = df5[df5['Date'].str.contains(year)][[\"latitudes\",\"longitude\"]]\n",
    "    kmeans = KMeans(n_clusters=10, random_state=42)\n",
    "    kmeans.fit(X)\n",
    "    centroids = kmeans.cluster_centers_\n",
    "\n",
    "    MousePosition(position='bottomleft', separator=' | ').add_to(m)\n",
    "    folium.Marker(location=[centroids[0][0], centroids[0][1]],icon=folium.Icon(icon = \"flag\",color='blue')).add_to(m)\n",
    "    folium.Marker(location=[centroids[6][0], centroids[6][1]],icon=folium.Icon(icon = \"flag\",color='blue')).add_to(m)\n",
    "    folium.Marker(location=[centroids[8][0], centroids[8][1]],icon=folium.Icon(icon = \"flag\",color='blue')).add_to(m)\n",
    "    folium.Marker(location=[centroids[3][0], centroids[3][1]],icon=folium.Icon(icon = \"flag\",color='blue'),popup='Centroids 1').add_to(m)\n",
    "\n",
    "    folium.Marker(location=[centroids[2][0], centroids[2][1]],icon=folium.Icon(icon = \"star\",color='green')).add_to(m)\n",
    "    folium.Marker(location=[centroids[9][0], centroids[9][1]],icon=folium.Icon(icon = \"star\",color='green')).add_to(m)\n",
    "    folium.Marker(location=[centroids[1][0], centroids[1][1]],icon=folium.Icon(icon = \"star\",color='green')).add_to(m)\n",
    "\n",
    "    folium.Marker(location=[centroids[5][0], centroids[5][1]],icon=folium.Icon(icon = \"cloud\",color='gray')).add_to(m)\n",
    "    folium.Marker(location=[centroids[4][0], centroids[4][1]],icon=folium.Icon(icon = \"cloud\",color='gray')).add_to(m)\n",
    "\n",
    "    folium.Marker(location=[centroids[7][0], centroids[7][1]],icon=folium.Icon(icon = \"play\",color='green')).add_to(m)\n",
    "    \n",
    "    return m\n",
    "\n",
    "interact(plot_fire_incidents, year=list(df5['Date'].str.slice(0, 4).unique()))\n"
   ]
  },
  {
   "cell_type": "code",
   "execution_count": null,
   "id": "c88da790",
   "metadata": {},
   "outputs": [],
   "source": []
  }
 ],
 "metadata": {
  "kernelspec": {
   "display_name": "Python 3 (ipykernel)",
   "language": "python",
   "name": "python3"
  },
  "language_info": {
   "codemirror_mode": {
    "name": "ipython",
    "version": 3
   },
   "file_extension": ".py",
   "mimetype": "text/x-python",
   "name": "python",
   "nbconvert_exporter": "python",
   "pygments_lexer": "ipython3",
   "version": "3.9.13"
  }
 },
 "nbformat": 4,
 "nbformat_minor": 5
}
